{
 "cells": [
  {
   "cell_type": "markdown",
   "metadata": {},
   "source": [
    "# Data Engineer Assistant"
   ]
  },
  {
   "cell_type": "markdown",
   "metadata": {},
   "source": [
    "## Load the required libraries"
   ]
  },
  {
   "cell_type": "code",
   "execution_count": 1,
   "metadata": {},
   "outputs": [],
   "source": [
    "import io\n",
    "import os\n",
    "import time\n",
    "import json\n",
    "from PIL import Image\n",
    "from pathlib import Path\n",
    "from typing import Iterable\n",
    "\n",
    "from dotenv import load_dotenv\n",
    "from openai import AzureOpenAI\n",
    "from openai.types.beta import Thread\n",
    "from openai.types.beta.threads import Run\n",
    "from openai.types.beta.threads.messages import MessageFile\n",
    "from openai.types.beta.threads.message_content_text import MessageContentText\n",
    "from openai.types.beta.threads.message_content_image_file import MessageContentImageFile"
   ]
  },
  {
   "cell_type": "markdown",
   "metadata": {},
   "source": [
    "## Load the environment variables"
   ]
  },
  {
   "cell_type": "code",
   "execution_count": 2,
   "metadata": {},
   "outputs": [],
   "source": [
    "load_dotenv()\n",
    "\n",
    "api_endpoint = os.getenv(\"OPENAI_URI\")\n",
    "api_key = os.getenv(\"OPENAI_KEY\")\n",
    "model_deployment_name = os.getenv(\"OPENAI_MODEL_DEPLOYMENT\")"
   ]
  },
  {
   "cell_type": "markdown",
   "metadata": {},
   "source": [
    "## Create an AzureOpenAI client"
   ]
  },
  {
   "cell_type": "code",
   "execution_count": 3,
   "metadata": {},
   "outputs": [],
   "source": [
    "client = AzureOpenAI(\n",
    "    api_key=api_key,\n",
    "    azure_endpoint=api_endpoint,\n",
    "    api_version=\"2024-02-15-preview\"\n",
    ")"
   ]
  },
  {
   "cell_type": "markdown",
   "metadata": {},
   "source": [
    "## Create Table in Databricks UC"
   ]
  },
  {
   "cell_type": "code",
   "execution_count": 4,
   "metadata": {},
   "outputs": [],
   "source": [
    "def create_databricks_table(table_schema: str, table_name: str) -> None:\n",
    "    # Call the API to create a table\n",
    "    print(\"table_schema:\", table_schema, \"table_name:\", table_name)"
   ]
  },
  {
   "cell_type": "markdown",
   "metadata": {},
   "source": [
    "## Define the Assistant tools"
   ]
  },
  {
   "cell_type": "code",
   "execution_count": 5,
   "metadata": {},
   "outputs": [],
   "source": [
    "tools_list = [\n",
    "    {\n",
    "        \"type\": \"code_interpreter\"\n",
    "    },\n",
    "    {\n",
    "        \"type\": \"function\",\n",
    "        \"function\": {\n",
    "            \"name\": \"create_databricks_table\",\n",
    "            \"description\": \"Extract information from a CSV file and create a Databricks UC Table.\",\n",
    "            \"parameters\": {\n",
    "                \"type\": \"object\",\n",
    "                \"properties\": {\n",
    "                    \"table_schema\": {\n",
    "                        \"type\": \"string\",\n",
    "                        \"enum\": [\"energy\", \"HR\"],\n",
    "                        \"description\": \"The table schema on Databricks UC.\"\n",
    "                    },\n",
    "                    \"table_name\": {\n",
    "                        \"type\": \"string\",\n",
    "                        \"description\": \"The table name on Databricks UC.\"\n",
    "                    }\n",
    "                },\n",
    "                \"required\": [\"table_schema\", \"table_name\"]\n",
    "            },\n",
    "        },\n",
    "    }\n",
    "]"
   ]
  },
  {
   "cell_type": "markdown",
   "metadata": {},
   "source": [
    "## Upload the data"
   ]
  },
  {
   "cell_type": "code",
   "execution_count": 6,
   "metadata": {},
   "outputs": [],
   "source": [
    "with Path(\"../data/turbines.csv\").open(\"rb\") as f:\n",
    "    assistants_file = client.files.create(file=f, purpose=\"assistants\")\n",
    "\n",
    "file_ids = [assistants_file.id]"
   ]
  },
  {
   "cell_type": "markdown",
   "metadata": {},
   "source": [
    "## Create an Assistant and a Thread"
   ]
  },
  {
   "cell_type": "code",
   "execution_count": 7,
   "metadata": {},
   "outputs": [],
   "source": [
    "instructions = \"\"\"\n",
    "You are a data engineering assistant skilled in data analysis, capable of aggregating relevant information from CSV files and providing insights.\n",
    "You are also proficient in Databricks and assist in creating Databricks UC Tables with the data.\n",
    "\"\"\"\n",
    "# instructions += r\"\\n請使用繁體中文回答\"\n",
    "\n",
    "assistant = client.beta.assistants.create(\n",
    "  name=\"Data Engineer Assistant\",\n",
    "  instructions=instructions,\n",
    "  tools=tools_list,\n",
    "  model=model_deployment_name,\n",
    "  file_ids=file_ids\n",
    ")\n",
    "\n",
    "thread = client.beta.threads.create()"
   ]
  },
  {
   "cell_type": "markdown",
   "metadata": {},
   "source": [
    "## Process Function calling"
   ]
  },
  {
   "cell_type": "code",
   "execution_count": 8,
   "metadata": {},
   "outputs": [],
   "source": [
    "def call_functions(client: AzureOpenAI, thread: Thread, run: Run) -> None:\n",
    "    required_actions = run.required_action.submit_tool_outputs.model_dump()\n",
    "    tool_outputs = []\n",
    "\n",
    "    for action in required_actions[\"tool_calls\"]:\n",
    "        func_name = action[\"function\"][\"name\"]\n",
    "        arguments = json.loads(action[\"function\"][\"arguments\"])\n",
    "\n",
    "        if func_name == \"create_databricks_table\":\n",
    "            create_databricks_table(\n",
    "                table_schema=arguments[\"table_schema\"], \n",
    "                table_name=arguments[\"table_name\"]\n",
    "            )\n",
    "            tool_outputs.append(\n",
    "                {\n",
    "                    \"tool_call_id\": action[\"id\"], \n",
    "                    \"output\": \"The table has been created successfully.\"\n",
    "                }\n",
    "            )\n",
    "        else:\n",
    "            raise ValueError(f\"Unknown function: {func_name}\")\n",
    "\n",
    "    client.beta.threads.runs.submit_tool_outputs(thread_id=thread.id, run_id=run.id, tool_outputs=tool_outputs)"
   ]
  },
  {
   "cell_type": "markdown",
   "metadata": {},
   "source": [
    "## Format and display the Assistant Messages for text and images"
   ]
  },
  {
   "cell_type": "code",
   "execution_count": 9,
   "metadata": {},
   "outputs": [],
   "source": [
    "def format_messages(messages: Iterable[MessageFile]) -> None:\n",
    "    message_list = []\n",
    "\n",
    "    for message in messages:\n",
    "        message_list.append(message)\n",
    "        if message.role == \"user\":\n",
    "            break\n",
    "\n",
    "    message_list.reverse()\n",
    "\n",
    "    for message in message_list:\n",
    "        for item in message.content:\n",
    "            if isinstance(item, MessageContentText):\n",
    "                print(f\"{message.role}:\\n{item.text.value}\\n\")\n",
    "            elif isinstance(item, MessageContentImageFile):\n",
    "                response_content = client.files.content(item.image_file.file_id)\n",
    "                data_in_bytes = response_content.read()\n",
    "                readable_buffer = io.BytesIO(data_in_bytes)\n",
    "                image = Image.open(readable_buffer)\n",
    "                width, height = image.size\n",
    "                image = image.resize((width // 2, height // 2), Image.LANCZOS)\n",
    "                display(image)"
   ]
  },
  {
   "cell_type": "markdown",
   "metadata": {},
   "source": [
    "## Process the user messages"
   ]
  },
  {
   "cell_type": "code",
   "execution_count": 10,
   "metadata": {},
   "outputs": [],
   "source": [
    "def process_message(content: str) -> None:\n",
    "    client.beta.threads.messages.create(thread_id=thread.id, role=\"user\", content=content)\n",
    "\n",
    "    run = client.beta.threads.runs.create(\n",
    "        thread_id=thread.id,\n",
    "        assistant_id=assistant.id\n",
    "    )\n",
    "\n",
    "    print(\"processing...\")\n",
    "    while True:\n",
    "        run = client.beta.threads.runs.retrieve(thread_id=thread.id, run_id=run.id)\n",
    "        if run.status == \"completed\":\n",
    "            messages = client.beta.threads.messages.list(thread_id=thread.id)\n",
    "            format_messages(messages)\n",
    "            break\n",
    "        elif run.status == \"failed\":\n",
    "            messages = client.beta.threads.messages.list(thread_id=thread.id)\n",
    "            format_messages(messages)\n",
    "            # Handle failed\n",
    "            break\n",
    "        elif run.status == \"expired\":\n",
    "            # Handle expired\n",
    "            break\n",
    "        elif run.status == \"cancelled\":\n",
    "            # Handle cancelled\n",
    "            break\n",
    "        elif run.status == \"requires_action\":\n",
    "            call_functions(client, thread, run)\n",
    "        else:\n",
    "            time.sleep(5)"
   ]
  },
  {
   "cell_type": "markdown",
   "metadata": {},
   "source": [
    "## Have a conversation with the Assistant"
   ]
  },
  {
   "cell_type": "code",
   "execution_count": 11,
   "metadata": {},
   "outputs": [
    {
     "name": "stdout",
     "output_type": "stream",
     "text": [
      "processing...\n",
      "user:\n",
      "What kind of data is this?\n",
      "\n",
      "assistant:\n",
      "The uploaded file contains data in a CSV format with the following columns:\n",
      "\n",
      "- `Turbine_ID`: A numerical identifier for the turbine.\n",
      "- `Wind_Speed`: The wind speed (assumed to be in some unit like mph or km/h).\n",
      "- `RPM`: Revolutions per minute of the turbine.\n",
      "- `Voltage`: The voltage output from the turbine.\n",
      "- `Maintenance_Date`: The date when maintenance was last performed on the turbine.\n",
      "\n",
      "This data appears to be related to the operational parameters and maintenance schedule of wind turbines.\n",
      "\n"
     ]
    }
   ],
   "source": [
    "process_message(\"What kind of data is this?\")"
   ]
  },
  {
   "cell_type": "code",
   "execution_count": 12,
   "metadata": {},
   "outputs": [
    {
     "name": "stdout",
     "output_type": "stream",
     "text": [
      "processing...\n",
      "user:\n",
      "Provide me with a beautiful analytical chart.\n",
      "\n"
     ]
    },
    {
     "data": {
      "image/png": "[encoded data removed]",
      "text/plain": [
       "<PIL.Image.Image image mode=RGBA size=1004x553>"
      ]
     },
     "metadata": {},
     "output_type": "display_data"
    },
    {
     "name": "stdout",
     "output_type": "stream",
     "text": [
      "assistant:\n",
      "Here is an analytical chart that visualizes the relationship between Wind Speed and Voltage for the wind turbines. Each point represents a turbine, with the color and size indicating the RPM (Revolutions Per Minute). This allows us to see if there's any correlation between these parameters and also visually identify the impact RPM might have on the Voltage for various Wind Speeds.\n",
      "\n",
      "You can [download the chart here](sandbox:/mnt/data/wind_speed_vs_voltage.png).\n",
      "\n"
     ]
    }
   ],
   "source": [
    "process_message(\"Provide me with a beautiful analytical chart.\")"
   ]
  },
  {
   "cell_type": "code",
   "execution_count": 13,
   "metadata": {},
   "outputs": [
    {
     "name": "stdout",
     "output_type": "stream",
     "text": [
      "processing...\n",
      "table_schema: energy table_name: wind_turbine_data\n",
      "user:\n",
      "Please create a Databricks table from the data in the energy schema.\n",
      "\n",
      "assistant:\n",
      "The Databricks table named \"wind_turbine_data\" has been created successfully in the `energy` schema from the data.\n",
      "\n"
     ]
    }
   ],
   "source": [
    "# Function Calling\n",
    "process_message(\"Please create a Databricks table from the data in the energy schema.\")"
   ]
  },
  {
   "cell_type": "code",
   "execution_count": 14,
   "metadata": {},
   "outputs": [
    {
     "name": "stdout",
     "output_type": "stream",
     "text": [
      "processing...\n",
      "user:\n",
      "Use PySpark to query the top ten records of this table.\n",
      "\n",
      "assistant:\n",
      "Unfortunately, we cannot execute a PySpark query within this environment, as the PySpark library is not available. However, for Databricks or any other environment with PySpark set up, you can use the following code snippet to query the top ten records of the table:\n",
      "\n",
      "```python\n",
      "from pyspark.sql import SparkSession\n",
      "\n",
      "# Initialize a Spark session\n",
      "spark = SparkSession.builder.appName(\"query_top_ten_records\").getOrCreate()\n",
      "\n",
      "# Read the table into a Spark DataFrame\n",
      "wind_turbine_df = spark.table(\"energy.wind_turbine_data\")\n",
      "\n",
      "# Use PySpark SQL to query the top ten records\n",
      "top_ten_records = wind_turbine_df.limit(10)\n",
      "\n",
      "# Show the results\n",
      "top_ten_records.show()\n",
      "```\n",
      "\n",
      "You'd run this code within a Databricks notebook or any other environment where you have PySpark available. If you need to retrieve the top ten records within this current environment, I can do so using Pandas. Would you like me to proceed with that?\n",
      "\n"
     ]
    }
   ],
   "source": [
    "# Code Interpreter\n",
    "process_message(\"Use PySpark to query the top ten records of this table.\")"
   ]
  },
  {
   "cell_type": "markdown",
   "metadata": {},
   "source": [
    "## Cleanup"
   ]
  },
  {
   "cell_type": "code",
   "execution_count": 15,
   "metadata": {},
   "outputs": [],
   "source": [
    "client.beta.assistants.delete(assistant.id)\n",
    "client.beta.threads.delete(thread.id)\n",
    "\n",
    "for file_id in file_ids:\n",
    "    client.files.delete(file_id)"
   ]
  }
 ],
 "metadata": {
  "kernelspec": {
   "display_name": "Python 3 (ipykernel)",
   "language": "python",
   "name": "python3"
  },
  "language_info": {
   "codemirror_mode": {
    "name": "ipython",
    "version": 3
   },
   "file_extension": ".py",
   "mimetype": "text/x-python",
   "name": "python",
   "nbconvert_exporter": "python",
   "pygments_lexer": "ipython3",
   "version": "3.10.13"
  }
 },
 "nbformat": 4,
 "nbformat_minor": 2
}
